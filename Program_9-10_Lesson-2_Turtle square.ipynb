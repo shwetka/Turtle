{
 "cells": [
  {
   "cell_type": "code",
   "execution_count": 4,
   "metadata": {},
   "outputs": [
    {
     "name": "stdout",
     "output_type": "stream",
     "text": [
      "Requirement already satisfied: mobilechelonian in c:\\users\\ilya\\anaconda3\\lib\\site-packages (0.5)\n",
      "Requirement already satisfied: ipywidgets>=7.0.0 in c:\\users\\ilya\\anaconda3\\lib\\site-packages (from mobilechelonian) (7.2.1)\n",
      "Requirement already satisfied: IPython in c:\\users\\ilya\\anaconda3\\lib\\site-packages (from mobilechelonian) (6.4.0)\n",
      "Requirement already satisfied: ipykernel>=4.5.1 in c:\\users\\ilya\\anaconda3\\lib\\site-packages (from ipywidgets>=7.0.0->mobilechelonian) (4.8.2)\n",
      "Requirement already satisfied: traitlets>=4.3.1 in c:\\users\\ilya\\anaconda3\\lib\\site-packages (from ipywidgets>=7.0.0->mobilechelonian) (4.3.2)\n",
      "Requirement already satisfied: nbformat>=4.2.0 in c:\\users\\ilya\\anaconda3\\lib\\site-packages (from ipywidgets>=7.0.0->mobilechelonian) (4.4.0)\n",
      "Requirement already satisfied: widgetsnbextension~=3.2.0 in c:\\users\\ilya\\anaconda3\\lib\\site-packages (from ipywidgets>=7.0.0->mobilechelonian) (3.2.1)\n",
      "Requirement already satisfied: prompt-toolkit<2.0.0,>=1.0.15 in c:\\users\\ilya\\anaconda3\\lib\\site-packages (from IPython->mobilechelonian) (1.0.15)\n",
      "Requirement already satisfied: backcall in c:\\users\\ilya\\anaconda3\\lib\\site-packages (from IPython->mobilechelonian) (0.1.0)\n",
      "Requirement already satisfied: decorator in c:\\users\\ilya\\anaconda3\\lib\\site-packages (from IPython->mobilechelonian) (4.3.0)\n",
      "Requirement already satisfied: pickleshare in c:\\users\\ilya\\anaconda3\\lib\\site-packages (from IPython->mobilechelonian) (0.7.4)\n",
      "Requirement already satisfied: setuptools>=18.5 in c:\\users\\ilya\\anaconda3\\lib\\site-packages (from IPython->mobilechelonian) (39.1.0)\n",
      "Requirement already satisfied: jedi>=0.10 in c:\\users\\ilya\\anaconda3\\lib\\site-packages (from IPython->mobilechelonian) (0.12.0)\n",
      "Requirement already satisfied: pygments in c:\\users\\ilya\\anaconda3\\lib\\site-packages (from IPython->mobilechelonian) (2.2.0)\n",
      "Requirement already satisfied: colorama; sys_platform == \"win32\" in c:\\users\\ilya\\anaconda3\\lib\\site-packages (from IPython->mobilechelonian) (0.3.9)\n",
      "Requirement already satisfied: simplegeneric>0.8 in c:\\users\\ilya\\anaconda3\\lib\\site-packages (from IPython->mobilechelonian) (0.8.1)\n",
      "Requirement already satisfied: jupyter_client in c:\\users\\ilya\\anaconda3\\lib\\site-packages (from ipykernel>=4.5.1->ipywidgets>=7.0.0->mobilechelonian) (5.2.3)\n",
      "Requirement already satisfied: tornado>=4.0 in c:\\users\\ilya\\anaconda3\\lib\\site-packages (from ipykernel>=4.5.1->ipywidgets>=7.0.0->mobilechelonian) (5.0.2)\n",
      "Requirement already satisfied: ipython_genutils in c:\\users\\ilya\\anaconda3\\lib\\site-packages (from traitlets>=4.3.1->ipywidgets>=7.0.0->mobilechelonian) (0.2.0)\n",
      "Requirement already satisfied: six in c:\\users\\ilya\\anaconda3\\lib\\site-packages (from traitlets>=4.3.1->ipywidgets>=7.0.0->mobilechelonian) (1.11.0)\n",
      "Requirement already satisfied: jsonschema!=2.5.0,>=2.4 in c:\\users\\ilya\\anaconda3\\lib\\site-packages (from nbformat>=4.2.0->ipywidgets>=7.0.0->mobilechelonian) (2.6.0)\n",
      "Requirement already satisfied: jupyter_core in c:\\users\\ilya\\anaconda3\\lib\\site-packages (from nbformat>=4.2.0->ipywidgets>=7.0.0->mobilechelonian) (4.4.0)\n",
      "Requirement already satisfied: notebook>=4.4.1 in c:\\users\\ilya\\anaconda3\\lib\\site-packages (from widgetsnbextension~=3.2.0->ipywidgets>=7.0.0->mobilechelonian) (5.5.0)\n",
      "Requirement already satisfied: wcwidth in c:\\users\\ilya\\anaconda3\\lib\\site-packages (from prompt-toolkit<2.0.0,>=1.0.15->IPython->mobilechelonian) (0.1.7)\n",
      "Requirement already satisfied: parso>=0.2.0 in c:\\users\\ilya\\anaconda3\\lib\\site-packages (from jedi>=0.10->IPython->mobilechelonian) (0.2.0)\n",
      "Requirement already satisfied: pyzmq>=13 in c:\\users\\ilya\\anaconda3\\lib\\site-packages (from jupyter_client->ipykernel>=4.5.1->ipywidgets>=7.0.0->mobilechelonian) (17.0.0)\n",
      "Requirement already satisfied: python-dateutil>=2.1 in c:\\users\\ilya\\anaconda3\\lib\\site-packages (from jupyter_client->ipykernel>=4.5.1->ipywidgets>=7.0.0->mobilechelonian) (2.7.3)\n",
      "Requirement already satisfied: Send2Trash in c:\\users\\ilya\\anaconda3\\lib\\site-packages (from notebook>=4.4.1->widgetsnbextension~=3.2.0->ipywidgets>=7.0.0->mobilechelonian) (1.5.0)\n",
      "Requirement already satisfied: nbconvert in c:\\users\\ilya\\anaconda3\\lib\\site-packages (from notebook>=4.4.1->widgetsnbextension~=3.2.0->ipywidgets>=7.0.0->mobilechelonian) (5.3.1)\n",
      "Requirement already satisfied: jinja2 in c:\\users\\ilya\\anaconda3\\lib\\site-packages (from notebook>=4.4.1->widgetsnbextension~=3.2.0->ipywidgets>=7.0.0->mobilechelonian) (2.10)\n",
      "Requirement already satisfied: terminado>=0.8.1 in c:\\users\\ilya\\anaconda3\\lib\\site-packages (from notebook>=4.4.1->widgetsnbextension~=3.2.0->ipywidgets>=7.0.0->mobilechelonian) (0.8.1)\n",
      "Requirement already satisfied: mistune>=0.7.4 in c:\\users\\ilya\\anaconda3\\lib\\site-packages (from nbconvert->notebook>=4.4.1->widgetsnbextension~=3.2.0->ipywidgets>=7.0.0->mobilechelonian) (0.8.3)\n",
      "Requirement already satisfied: entrypoints>=0.2.2 in c:\\users\\ilya\\anaconda3\\lib\\site-packages (from nbconvert->notebook>=4.4.1->widgetsnbextension~=3.2.0->ipywidgets>=7.0.0->mobilechelonian) (0.2.3)\n",
      "Requirement already satisfied: bleach in c:\\users\\ilya\\anaconda3\\lib\\site-packages (from nbconvert->notebook>=4.4.1->widgetsnbextension~=3.2.0->ipywidgets>=7.0.0->mobilechelonian) (2.1.3)\n",
      "Requirement already satisfied: pandocfilters>=1.4.1 in c:\\users\\ilya\\anaconda3\\lib\\site-packages (from nbconvert->notebook>=4.4.1->widgetsnbextension~=3.2.0->ipywidgets>=7.0.0->mobilechelonian) (1.4.2)\n",
      "Requirement already satisfied: testpath in c:\\users\\ilya\\anaconda3\\lib\\site-packages (from nbconvert->notebook>=4.4.1->widgetsnbextension~=3.2.0->ipywidgets>=7.0.0->mobilechelonian) (0.3.1)\n",
      "Requirement already satisfied: MarkupSafe>=0.23 in c:\\users\\ilya\\anaconda3\\lib\\site-packages (from jinja2->notebook>=4.4.1->widgetsnbextension~=3.2.0->ipywidgets>=7.0.0->mobilechelonian) (1.0)\n",
      "Requirement already satisfied: html5lib!=1.0b1,!=1.0b2,!=1.0b3,!=1.0b4,!=1.0b5,!=1.0b6,!=1.0b7,!=1.0b8,>=0.99999999pre in c:\\users\\ilya\\anaconda3\\lib\\site-packages (from bleach->nbconvert->notebook>=4.4.1->widgetsnbextension~=3.2.0->ipywidgets>=7.0.0->mobilechelonian) (1.0.1)\n",
      "Requirement already satisfied: webencodings in c:\\users\\ilya\\anaconda3\\lib\\site-packages (from html5lib!=1.0b1,!=1.0b2,!=1.0b3,!=1.0b4,!=1.0b5,!=1.0b6,!=1.0b7,!=1.0b8,>=0.99999999pre->bleach->nbconvert->notebook>=4.4.1->widgetsnbextension~=3.2.0->ipywidgets>=7.0.0->mobilechelonian) (0.5.1)\n"
     ]
    }
   ],
   "source": [
    "!pip install mobilechelonian"
   ]
  },
  {
   "cell_type": "markdown",
   "metadata": {},
   "source": [
    "Привет! Мы начинаем с вами курс програмирования. \n",
    "Перед вами много разного непонятного текста, это мы настраиваем необходимую для работы среду. \n",
    "(обратите внимание, что если все хорошо настроилось, то теаст будет черным и в нем будут встречаться такие слова:\n",
    "Requirement already satisfied:)\n",
    "В нашем курсе мы будем писать программы на языке Питон,  в специальном модуле turtle,  который специально разработан для обучения)\n",
    "\n",
    "Питон (Python)  это язык программирования, очень удобный для обучения, его придумали чуть меньше сорока лет назад. \n"
   ]
  },
  {
   "cell_type": "code",
   "execution_count": 5,
   "metadata": {},
   "outputs": [
    {
     "name": "stdout",
     "output_type": "stream",
     "text": [
      "Requirement already satisfied: numpy in c:\\users\\ilya\\anaconda3\\lib\\site-packages (1.14.3)\n"
     ]
    }
   ],
   "source": [
    "import sys\n",
    "!{sys.executable} -m pip install numpy"
   ]
  },
  {
   "cell_type": "markdown",
   "metadata": {},
   "source": [
    "Сверху тоже необходимая для работы настройки. \n",
    "Сейчас мы подключим нужный нам модуль turtle"
   ]
  },
  {
   "cell_type": "code",
   "execution_count": 6,
   "metadata": {},
   "outputs": [
    {
     "data": {
      "application/vnd.jupyter.widget-view+json": {
       "model_id": "8ab12be5b4b24c66926a1835e0dcd61c",
       "version_major": 2,
       "version_minor": 0
      },
      "text/plain": [
       "Turtle()"
      ]
     },
     "metadata": {},
     "output_type": "display_data"
    }
   ],
   "source": [
    "from mobilechelonian import Turtle\n",
    "t=Turtle()"
   ]
  },
  {
   "cell_type": "markdown",
   "metadata": {},
   "source": [
    "Урок 2 \n",
    "Ты заметил сколько раз ты писал одни и те же команды? Много? Для того, чтобы не писать много раз одно и тоже в Питоне( Да и в любом другом языке программирования) были придуманы специальные конструкции, которые называются циклы.  Они позволяют повторить несколько раз одно и то же. \n",
    "В Питоне один из циклов устроем так\n",
    "for i in range (5):\n",
    "Буквально- пока i находится в диапазоне от 0 до 5,  или- проще- повтори 5 раз. Вместо i можно писать любую другую букву. \n",
    "следующие строчки- это то, что программа будет повторять, надо отобвинуть от края кнопочкой TAB\n"
   ]
  },
  {
   "cell_type": "code",
   "execution_count": null,
   "metadata": {},
   "outputs": [],
   "source": [
    "t=Turtle()\n",
    "for i in range (5): #заголовок\n",
    "    t.forward (10)  #тело цикла"
   ]
  },
  {
   "cell_type": "markdown",
   "metadata": {},
   "source": [
    "Черепашка пройдет 50 шагов  (5 раз п 10 шагов). А теперь давай вернемся немного назад и снова нарисуем квадрат, но уже по новому, используя цикл. Цикл нужно повторить только раз, сколько... Вставь пропущенные цифры и команды в программу ниже.\n"
   ]
  },
  {
   "cell_type": "code",
   "execution_count": null,
   "metadata": {},
   "outputs": [],
   "source": [
    "t=Turtle()\n",
    "for i in range ( ):\n",
    "    t.forward (100)\n",
    "            (90) "
   ]
  },
  {
   "cell_type": "markdown",
   "metadata": {},
   "source": [
    "А теперь напиши  сам программу, и нарисуй треугольник, пятиугольник, шестиугольник и десятиугольник. Маленькая подсказка- \n",
    "Для того, посчитать угол, на который должна повернуть черепашка, необходимо 360 разделить на количество углов в нашей фигуре. \n",
    "Квадрат - 360 / 4 = 90 (/- это знак деления в программировании)\n",
    "Треугольник 360/3 =120 \n",
    "Обрати внимание, что в скобках можно писать или число, или выражение( например 360/4), тогда программа выполнит деление сама. \n"
   ]
  },
  {
   "cell_type": "markdown",
   "metadata": {},
   "source": [
    "Нарисуй треугольник"
   ]
  },
  {
   "cell_type": "code",
   "execution_count": null,
   "metadata": {},
   "outputs": [],
   "source": [
    "t=Turtle()\n",
    "\n",
    "\n"
   ]
  },
  {
   "cell_type": "markdown",
   "metadata": {},
   "source": [
    "Нарисуй пятиугольник"
   ]
  },
  {
   "cell_type": "code",
   "execution_count": null,
   "metadata": {},
   "outputs": [],
   "source": [
    "t=Turtle()\n",
    "\n",
    "\n",
    "\n",
    "\n"
   ]
  },
  {
   "cell_type": "markdown",
   "metadata": {},
   "source": [
    "Нарисуй шестиугольник "
   ]
  },
  {
   "cell_type": "code",
   "execution_count": null,
   "metadata": {},
   "outputs": [],
   "source": [
    "t=Turtle()\n",
    "\n",
    "\n",
    "\n"
   ]
  },
  {
   "cell_type": "markdown",
   "metadata": {},
   "source": [
    "Нарисуй двадцатиугольник"
   ]
  },
  {
   "cell_type": "code",
   "execution_count": null,
   "metadata": {},
   "outputs": [],
   "source": [
    "t=Turtle()\n",
    "\n",
    "\n",
    "\n"
   ]
  },
  {
   "cell_type": "markdown",
   "metadata": {},
   "source": [
    "Получилось? Правда, двадцатиугольник уже очень похож на круг? А теперь подумай, как нарисовать настояций  круг. ( Это тоже многоугольник с очень большим количесвом углов)"
   ]
  },
  {
   "cell_type": "code",
   "execution_count": null,
   "metadata": {},
   "outputs": [],
   "source": [
    "t=Turtle()\n",
    "\n",
    "\n"
   ]
  },
  {
   "cell_type": "code",
   "execution_count": null,
   "metadata": {},
   "outputs": [],
   "source": []
  }
 ],
 "metadata": {
  "kernelspec": {
   "display_name": "Python 3",
   "language": "python",
   "name": "python3"
  },
  "language_info": {
   "codemirror_mode": {
    "name": "ipython",
    "version": 3
   },
   "file_extension": ".py",
   "mimetype": "text/x-python",
   "name": "python",
   "nbconvert_exporter": "python",
   "pygments_lexer": "ipython3",
   "version": "3.6.5"
  }
 },
 "nbformat": 4,
 "nbformat_minor": 2
}
