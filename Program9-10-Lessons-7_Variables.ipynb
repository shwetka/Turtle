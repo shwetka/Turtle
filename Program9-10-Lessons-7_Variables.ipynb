{
 "cells": [
  {
   "cell_type": "code",
   "execution_count": 1,
   "metadata": {
    "scrolled": true
   },
   "outputs": [
    {
     "name": "stdout",
     "output_type": "stream",
     "text": [
      "Requirement already satisfied: mobilechelonian in c:\\users\\ilya\\anaconda3\\lib\\site-packages (0.5)\n",
      "Requirement already satisfied: IPython in c:\\users\\ilya\\anaconda3\\lib\\site-packages (from mobilechelonian) (6.4.0)\n",
      "Requirement already satisfied: ipywidgets>=7.0.0 in c:\\users\\ilya\\anaconda3\\lib\\site-packages (from mobilechelonian) (7.2.1)\n",
      "Requirement already satisfied: pygments in c:\\users\\ilya\\anaconda3\\lib\\site-packages (from IPython->mobilechelonian) (2.2.0)\n",
      "Requirement already satisfied: backcall in c:\\users\\ilya\\anaconda3\\lib\\site-packages (from IPython->mobilechelonian) (0.1.0)\n",
      "Requirement already satisfied: prompt-toolkit<2.0.0,>=1.0.15 in c:\\users\\ilya\\anaconda3\\lib\\site-packages (from IPython->mobilechelonian) (1.0.15)\n",
      "Requirement already satisfied: colorama; sys_platform == \"win32\" in c:\\users\\ilya\\anaconda3\\lib\\site-packages (from IPython->mobilechelonian) (0.3.9)\n",
      "Requirement already satisfied: decorator in c:\\users\\ilya\\anaconda3\\lib\\site-packages (from IPython->mobilechelonian) (4.3.0)\n",
      "Requirement already satisfied: setuptools>=18.5 in c:\\users\\ilya\\anaconda3\\lib\\site-packages (from IPython->mobilechelonian) (39.1.0)\n",
      "Requirement already satisfied: jedi>=0.10 in c:\\users\\ilya\\anaconda3\\lib\\site-packages (from IPython->mobilechelonian) (0.12.0)\n",
      "Requirement already satisfied: pickleshare in c:\\users\\ilya\\anaconda3\\lib\\site-packages (from IPython->mobilechelonian) (0.7.4)\n",
      "Requirement already satisfied: simplegeneric>0.8 in c:\\users\\ilya\\anaconda3\\lib\\site-packages (from IPython->mobilechelonian) (0.8.1)\n",
      "Requirement already satisfied: traitlets>=4.2 in c:\\users\\ilya\\anaconda3\\lib\\site-packages (from IPython->mobilechelonian) (4.3.2)\n",
      "Requirement already satisfied: ipykernel>=4.5.1 in c:\\users\\ilya\\anaconda3\\lib\\site-packages (from ipywidgets>=7.0.0->mobilechelonian) (4.8.2)\n",
      "Requirement already satisfied: nbformat>=4.2.0 in c:\\users\\ilya\\anaconda3\\lib\\site-packages (from ipywidgets>=7.0.0->mobilechelonian) (4.4.0)\n",
      "Requirement already satisfied: widgetsnbextension~=3.2.0 in c:\\users\\ilya\\anaconda3\\lib\\site-packages (from ipywidgets>=7.0.0->mobilechelonian) (3.2.1)\n",
      "Requirement already satisfied: six>=1.9.0 in c:\\users\\ilya\\anaconda3\\lib\\site-packages (from prompt-toolkit<2.0.0,>=1.0.15->IPython->mobilechelonian) (1.11.0)\n",
      "Requirement already satisfied: wcwidth in c:\\users\\ilya\\anaconda3\\lib\\site-packages (from prompt-toolkit<2.0.0,>=1.0.15->IPython->mobilechelonian) (0.1.7)\n",
      "Requirement already satisfied: parso>=0.2.0 in c:\\users\\ilya\\anaconda3\\lib\\site-packages (from jedi>=0.10->IPython->mobilechelonian) (0.2.0)\n",
      "Requirement already satisfied: ipython_genutils in c:\\users\\ilya\\anaconda3\\lib\\site-packages (from traitlets>=4.2->IPython->mobilechelonian) (0.2.0)\n",
      "Requirement already satisfied: jupyter_client in c:\\users\\ilya\\anaconda3\\lib\\site-packages (from ipykernel>=4.5.1->ipywidgets>=7.0.0->mobilechelonian) (5.2.3)\n",
      "Requirement already satisfied: tornado>=4.0 in c:\\users\\ilya\\anaconda3\\lib\\site-packages (from ipykernel>=4.5.1->ipywidgets>=7.0.0->mobilechelonian) (5.0.2)\n",
      "Requirement already satisfied: jsonschema!=2.5.0,>=2.4 in c:\\users\\ilya\\anaconda3\\lib\\site-packages (from nbformat>=4.2.0->ipywidgets>=7.0.0->mobilechelonian) (2.6.0)\n",
      "Requirement already satisfied: jupyter_core in c:\\users\\ilya\\anaconda3\\lib\\site-packages (from nbformat>=4.2.0->ipywidgets>=7.0.0->mobilechelonian) (4.4.0)\n",
      "Requirement already satisfied: notebook>=4.4.1 in c:\\users\\ilya\\anaconda3\\lib\\site-packages (from widgetsnbextension~=3.2.0->ipywidgets>=7.0.0->mobilechelonian) (5.5.0)\n",
      "Requirement already satisfied: pyzmq>=13 in c:\\users\\ilya\\anaconda3\\lib\\site-packages (from jupyter_client->ipykernel>=4.5.1->ipywidgets>=7.0.0->mobilechelonian) (17.0.0)\n",
      "Requirement already satisfied: python-dateutil>=2.1 in c:\\users\\ilya\\anaconda3\\lib\\site-packages (from jupyter_client->ipykernel>=4.5.1->ipywidgets>=7.0.0->mobilechelonian) (2.7.3)\n",
      "Requirement already satisfied: jinja2 in c:\\users\\ilya\\anaconda3\\lib\\site-packages (from notebook>=4.4.1->widgetsnbextension~=3.2.0->ipywidgets>=7.0.0->mobilechelonian) (2.10)\n",
      "Requirement already satisfied: nbconvert in c:\\users\\ilya\\anaconda3\\lib\\site-packages (from notebook>=4.4.1->widgetsnbextension~=3.2.0->ipywidgets>=7.0.0->mobilechelonian) (5.3.1)\n",
      "Requirement already satisfied: terminado>=0.8.1 in c:\\users\\ilya\\anaconda3\\lib\\site-packages (from notebook>=4.4.1->widgetsnbextension~=3.2.0->ipywidgets>=7.0.0->mobilechelonian) (0.8.1)\n",
      "Requirement already satisfied: Send2Trash in c:\\users\\ilya\\anaconda3\\lib\\site-packages (from notebook>=4.4.1->widgetsnbextension~=3.2.0->ipywidgets>=7.0.0->mobilechelonian) (1.5.0)\n",
      "Requirement already satisfied: MarkupSafe>=0.23 in c:\\users\\ilya\\anaconda3\\lib\\site-packages (from jinja2->notebook>=4.4.1->widgetsnbextension~=3.2.0->ipywidgets>=7.0.0->mobilechelonian) (1.0)\n",
      "Requirement already satisfied: mistune>=0.7.4 in c:\\users\\ilya\\anaconda3\\lib\\site-packages (from nbconvert->notebook>=4.4.1->widgetsnbextension~=3.2.0->ipywidgets>=7.0.0->mobilechelonian) (0.8.3)\n",
      "Requirement already satisfied: entrypoints>=0.2.2 in c:\\users\\ilya\\anaconda3\\lib\\site-packages (from nbconvert->notebook>=4.4.1->widgetsnbextension~=3.2.0->ipywidgets>=7.0.0->mobilechelonian) (0.2.3)\n",
      "Requirement already satisfied: bleach in c:\\users\\ilya\\anaconda3\\lib\\site-packages (from nbconvert->notebook>=4.4.1->widgetsnbextension~=3.2.0->ipywidgets>=7.0.0->mobilechelonian) (2.1.3)\n",
      "Requirement already satisfied: pandocfilters>=1.4.1 in c:\\users\\ilya\\anaconda3\\lib\\site-packages (from nbconvert->notebook>=4.4.1->widgetsnbextension~=3.2.0->ipywidgets>=7.0.0->mobilechelonian) (1.4.2)\n",
      "Requirement already satisfied: testpath in c:\\users\\ilya\\anaconda3\\lib\\site-packages (from nbconvert->notebook>=4.4.1->widgetsnbextension~=3.2.0->ipywidgets>=7.0.0->mobilechelonian) (0.3.1)\n",
      "Requirement already satisfied: html5lib!=1.0b1,!=1.0b2,!=1.0b3,!=1.0b4,!=1.0b5,!=1.0b6,!=1.0b7,!=1.0b8,>=0.99999999pre in c:\\users\\ilya\\anaconda3\\lib\\site-packages (from bleach->nbconvert->notebook>=4.4.1->widgetsnbextension~=3.2.0->ipywidgets>=7.0.0->mobilechelonian) (1.0.1)\n",
      "Requirement already satisfied: webencodings in c:\\users\\ilya\\anaconda3\\lib\\site-packages (from html5lib!=1.0b1,!=1.0b2,!=1.0b3,!=1.0b4,!=1.0b5,!=1.0b6,!=1.0b7,!=1.0b8,>=0.99999999pre->bleach->nbconvert->notebook>=4.4.1->widgetsnbextension~=3.2.0->ipywidgets>=7.0.0->mobilechelonian) (0.5.1)\n"
     ]
    }
   ],
   "source": [
    "!pip install mobilechelonian"
   ]
  },
  {
   "cell_type": "code",
   "execution_count": 2,
   "metadata": {},
   "outputs": [],
   "source": [
    "from mobilechelonian import Turtle\n"
   ]
  },
  {
   "attachments": {
    "timmy8_zpsa7b446d9.png": {
     "image/png": "[encoded data removed]"
    }
   },
   "cell_type": "markdown",
   "metadata": {},
   "source": [
    "\n",
    "![timmy8_zpsa7b446d9.png](attachment:timmy8_zpsa7b446d9.png)\n",
    "\n"
   ]
  },
  {
   "cell_type": "markdown",
   "metadata": {},
   "source": [
    "Урок 7 \n",
    "\n",
    "Напишите самостоятельно программу, которая будет рисовать такую же картинку, но с такими параметрами\n",
    "Количество углов у первой ыфигры должно быть введено с клавиатуры\n",
    "Длина стороны должна быть введенена с клавиатуры\n",
    "Количество фигрур должно быть введено с клавиатуры \n",
    "\n",
    "Для того ,  что бы данные не путались, давайте будем задавать вопрос, перед тем как вводить данные с клавиатуры\n",
    "Для этого существует команда print\n",
    "Пользуются ей так \n",
    "print (' введите количество фирур') - обратите внимание, как используюся скобки и кавычки. Сначала скобки, а запем то, что вы хотите написать, пишется в кавычках "
   ]
  },
  {
   "cell_type": "code",
   "execution_count": null,
   "metadata": {},
   "outputs": [],
   "source": [
    "t=Turtle()\n",
    "t.speed(5)\n",
    "print ('введите количество углов у первой фигуры')\n",
    "a= int(input())\n",
    "print \n",
    "b=\n",
    "\n",
    "\n",
    "\n",
    "\n"
   ]
  },
  {
   "cell_type": "markdown",
   "metadata": {},
   "source": [
    "Попробуйте изменить код так, чтобы теперь черепашка рисовала сначала фигуру с самым большим числом углов ,  а заканчивала фигрурой  с самым маленьким числом углов "
   ]
  },
  {
   "cell_type": "code",
   "execution_count": null,
   "metadata": {},
   "outputs": [],
   "source": [
    "t=Turtle()\n",
    "t.speed(5)\n",
    "\n",
    "\n",
    "\n",
    "\n",
    "\n",
    "\n",
    "\n",
    "\n",
    "\n",
    "\n"
   ]
  }
 ],
 "metadata": {
  "kernelspec": {
   "display_name": "Python 3",
   "language": "python",
   "name": "python3"
  },
  "language_info": {
   "codemirror_mode": {
    "name": "ipython",
    "version": 3
   },
   "file_extension": ".py",
   "mimetype": "text/x-python",
   "name": "python",
   "nbconvert_exporter": "python",
   "pygments_lexer": "ipython3",
   "version": "3.6.5"
  }
 },
 "nbformat": 4,
 "nbformat_minor": 2
}
