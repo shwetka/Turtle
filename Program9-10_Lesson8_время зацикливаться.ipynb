{
 "cells": [
  {
   "cell_type": "code",
   "execution_count": 1,
   "metadata": {},
   "outputs": [
    {
     "name": "stdout",
     "output_type": "stream",
     "text": [
      "Requirement already satisfied: mobilechelonian in c:\\users\\ilya\\anaconda3\\lib\\site-packages (0.5)\n",
      "Requirement already satisfied: ipywidgets>=7.0.0 in c:\\users\\ilya\\anaconda3\\lib\\site-packages (from mobilechelonian) (7.2.1)\n",
      "Requirement already satisfied: IPython in c:\\users\\ilya\\anaconda3\\lib\\site-packages (from mobilechelonian) (6.4.0)\n",
      "Requirement already satisfied: ipykernel>=4.5.1 in c:\\users\\ilya\\anaconda3\\lib\\site-packages (from ipywidgets>=7.0.0->mobilechelonian) (4.8.2)\n",
      "Requirement already satisfied: traitlets>=4.3.1 in c:\\users\\ilya\\anaconda3\\lib\\site-packages (from ipywidgets>=7.0.0->mobilechelonian) (4.3.2)\n",
      "Requirement already satisfied: nbformat>=4.2.0 in c:\\users\\ilya\\anaconda3\\lib\\site-packages (from ipywidgets>=7.0.0->mobilechelonian) (4.4.0)\n",
      "Requirement already satisfied: widgetsnbextension~=3.2.0 in c:\\users\\ilya\\anaconda3\\lib\\site-packages (from ipywidgets>=7.0.0->mobilechelonian) (3.2.1)\n",
      "Requirement already satisfied: prompt-toolkit<2.0.0,>=1.0.15 in c:\\users\\ilya\\anaconda3\\lib\\site-packages (from IPython->mobilechelonian) (1.0.15)\n",
      "Requirement already satisfied: colorama; sys_platform == \"win32\" in c:\\users\\ilya\\anaconda3\\lib\\site-packages (from IPython->mobilechelonian) (0.3.9)\n",
      "Requirement already satisfied: pygments in c:\\users\\ilya\\anaconda3\\lib\\site-packages (from IPython->mobilechelonian) (2.2.0)\n",
      "Requirement already satisfied: backcall in c:\\users\\ilya\\anaconda3\\lib\\site-packages (from IPython->mobilechelonian) (0.1.0)\n",
      "Requirement already satisfied: decorator in c:\\users\\ilya\\anaconda3\\lib\\site-packages (from IPython->mobilechelonian) (4.3.0)\n",
      "Requirement already satisfied: pickleshare in c:\\users\\ilya\\anaconda3\\lib\\site-packages (from IPython->mobilechelonian) (0.7.4)\n",
      "Requirement already satisfied: simplegeneric>0.8 in c:\\users\\ilya\\anaconda3\\lib\\site-packages (from IPython->mobilechelonian) (0.8.1)\n",
      "Requirement already satisfied: jedi>=0.10 in c:\\users\\ilya\\anaconda3\\lib\\site-packages (from IPython->mobilechelonian) (0.12.0)\n",
      "Requirement already satisfied: setuptools>=18.5 in c:\\users\\ilya\\anaconda3\\lib\\site-packages (from IPython->mobilechelonian) (39.1.0)\n",
      "Requirement already satisfied: jupyter_client in c:\\users\\ilya\\anaconda3\\lib\\site-packages (from ipykernel>=4.5.1->ipywidgets>=7.0.0->mobilechelonian) (5.2.3)\n",
      "Requirement already satisfied: tornado>=4.0 in c:\\users\\ilya\\anaconda3\\lib\\site-packages (from ipykernel>=4.5.1->ipywidgets>=7.0.0->mobilechelonian) (5.0.2)\n",
      "Requirement already satisfied: ipython_genutils in c:\\users\\ilya\\anaconda3\\lib\\site-packages (from traitlets>=4.3.1->ipywidgets>=7.0.0->mobilechelonian) (0.2.0)\n",
      "Requirement already satisfied: six in c:\\users\\ilya\\anaconda3\\lib\\site-packages (from traitlets>=4.3.1->ipywidgets>=7.0.0->mobilechelonian) (1.11.0)\n",
      "Requirement already satisfied: jsonschema!=2.5.0,>=2.4 in c:\\users\\ilya\\anaconda3\\lib\\site-packages (from nbformat>=4.2.0->ipywidgets>=7.0.0->mobilechelonian) (2.6.0)\n",
      "Requirement already satisfied: jupyter_core in c:\\users\\ilya\\anaconda3\\lib\\site-packages (from nbformat>=4.2.0->ipywidgets>=7.0.0->mobilechelonian) (4.4.0)\n",
      "Requirement already satisfied: notebook>=4.4.1 in c:\\users\\ilya\\anaconda3\\lib\\site-packages (from widgetsnbextension~=3.2.0->ipywidgets>=7.0.0->mobilechelonian) (5.5.0)\n",
      "Requirement already satisfied: wcwidth in c:\\users\\ilya\\anaconda3\\lib\\site-packages (from prompt-toolkit<2.0.0,>=1.0.15->IPython->mobilechelonian) (0.1.7)\n",
      "Requirement already satisfied: parso>=0.2.0 in c:\\users\\ilya\\anaconda3\\lib\\site-packages (from jedi>=0.10->IPython->mobilechelonian) (0.2.0)\n",
      "Requirement already satisfied: pyzmq>=13 in c:\\users\\ilya\\anaconda3\\lib\\site-packages (from jupyter_client->ipykernel>=4.5.1->ipywidgets>=7.0.0->mobilechelonian) (17.0.0)\n",
      "Requirement already satisfied: python-dateutil>=2.1 in c:\\users\\ilya\\anaconda3\\lib\\site-packages (from jupyter_client->ipykernel>=4.5.1->ipywidgets>=7.0.0->mobilechelonian) (2.7.3)\n",
      "Requirement already satisfied: nbconvert in c:\\users\\ilya\\anaconda3\\lib\\site-packages (from notebook>=4.4.1->widgetsnbextension~=3.2.0->ipywidgets>=7.0.0->mobilechelonian) (5.3.1)\n",
      "Requirement already satisfied: jinja2 in c:\\users\\ilya\\anaconda3\\lib\\site-packages (from notebook>=4.4.1->widgetsnbextension~=3.2.0->ipywidgets>=7.0.0->mobilechelonian) (2.10)\n",
      "Requirement already satisfied: Send2Trash in c:\\users\\ilya\\anaconda3\\lib\\site-packages (from notebook>=4.4.1->widgetsnbextension~=3.2.0->ipywidgets>=7.0.0->mobilechelonian) (1.5.0)\n",
      "Requirement already satisfied: terminado>=0.8.1 in c:\\users\\ilya\\anaconda3\\lib\\site-packages (from notebook>=4.4.1->widgetsnbextension~=3.2.0->ipywidgets>=7.0.0->mobilechelonian) (0.8.1)\n",
      "Requirement already satisfied: mistune>=0.7.4 in c:\\users\\ilya\\anaconda3\\lib\\site-packages (from nbconvert->notebook>=4.4.1->widgetsnbextension~=3.2.0->ipywidgets>=7.0.0->mobilechelonian) (0.8.3)\n",
      "Requirement already satisfied: entrypoints>=0.2.2 in c:\\users\\ilya\\anaconda3\\lib\\site-packages (from nbconvert->notebook>=4.4.1->widgetsnbextension~=3.2.0->ipywidgets>=7.0.0->mobilechelonian) (0.2.3)\n",
      "Requirement already satisfied: bleach in c:\\users\\ilya\\anaconda3\\lib\\site-packages (from nbconvert->notebook>=4.4.1->widgetsnbextension~=3.2.0->ipywidgets>=7.0.0->mobilechelonian) (2.1.3)\n",
      "Requirement already satisfied: pandocfilters>=1.4.1 in c:\\users\\ilya\\anaconda3\\lib\\site-packages (from nbconvert->notebook>=4.4.1->widgetsnbextension~=3.2.0->ipywidgets>=7.0.0->mobilechelonian) (1.4.2)\n",
      "Requirement already satisfied: testpath in c:\\users\\ilya\\anaconda3\\lib\\site-packages (from nbconvert->notebook>=4.4.1->widgetsnbextension~=3.2.0->ipywidgets>=7.0.0->mobilechelonian) (0.3.1)\n",
      "Requirement already satisfied: MarkupSafe>=0.23 in c:\\users\\ilya\\anaconda3\\lib\\site-packages (from jinja2->notebook>=4.4.1->widgetsnbextension~=3.2.0->ipywidgets>=7.0.0->mobilechelonian) (1.0)\n",
      "Requirement already satisfied: html5lib!=1.0b1,!=1.0b2,!=1.0b3,!=1.0b4,!=1.0b5,!=1.0b6,!=1.0b7,!=1.0b8,>=0.99999999pre in c:\\users\\ilya\\anaconda3\\lib\\site-packages (from bleach->nbconvert->notebook>=4.4.1->widgetsnbextension~=3.2.0->ipywidgets>=7.0.0->mobilechelonian) (1.0.1)\n",
      "Requirement already satisfied: webencodings in c:\\users\\ilya\\anaconda3\\lib\\site-packages (from html5lib!=1.0b1,!=1.0b2,!=1.0b3,!=1.0b4,!=1.0b5,!=1.0b6,!=1.0b7,!=1.0b8,>=0.99999999pre->bleach->nbconvert->notebook>=4.4.1->widgetsnbextension~=3.2.0->ipywidgets>=7.0.0->mobilechelonian) (0.5.1)\n"
     ]
    },
    {
     "name": "stderr",
     "output_type": "stream",
     "text": [
      "You are using pip version 18.1, however version 19.0.2 is available.\n",
      "You should consider upgrading via the 'python -m pip install --upgrade pip' command.\n"
     ]
    }
   ],
   "source": [
    "!pip install mobilechelonian"
   ]
  },
  {
   "attachments": {
    "2018-10-08_135226.jpg": {
     "image/jpeg": "[encoded data removed]"
    }
   },
   "cell_type": "markdown",
   "metadata": {},
   "source": [
    "Урок 8\n",
    "Пришло время научиться зацикливаться!ыСегодня на уроке мы на некоторое время забудем про переменные и ввод данных и научися писать циклы и не просто циклы, а циклы, вложенные друг в друга!\n",
    "Для начала посмотрите на Эту картинку. \n",
    "![2018-10-08_135226.jpg](attachment:2018-10-08_135226.jpg)\n",
    "Из каких фигур состоит эта картинка?\n",
    "Ромбы это фигура у которой все стороны равны, а углы не равны. \n",
    "Явсятся ли квадрат ромбом?\n",
    "Какие углы у ромба на картинке?\n",
    "Рисуем ромб.\n"
   ]
  },
  {
   "cell_type": "code",
   "execution_count": 21,
   "metadata": {},
   "outputs": [
    {
     "data": {
      "application/vnd.jupyter.widget-view+json": {
       "model_id": "1eadb1e6cec048288fc683a5e3817c9c",
       "version_major": 2,
       "version_minor": 0
      },
      "text/plain": [
       "Turtle()"
      ]
     },
     "metadata": {},
     "output_type": "display_data"
    }
   ],
   "source": [
    "from mobilechelonian import Turtle\n",
    "t=Turtle()\n",
    "t.speed(5)\n",
    "t.forward(50)\n",
    "t.right(45)\n",
    "t.forward(50)\n",
    "t.right(135)\n",
    "t.forward(50)\n",
    "t.right(45)\n",
    "t.forward(50)\n",
    "t.right(135)\n"
   ]
  },
  {
   "cell_type": "markdown",
   "metadata": {},
   "source": [
    "Сколько раз и какие команды повторяются? Попробуем написать цикл.\n"
   ]
  },
  {
   "cell_type": "code",
   "execution_count": 1,
   "metadata": {},
   "outputs": [
    {
     "data": {
      "application/vnd.jupyter.widget-view+json": {
       "model_id": "d6bda39ed86b4150a66c589f943697d2",
       "version_major": 2,
       "version_minor": 0
      },
      "text/plain": [
       "Turtle()"
      ]
     },
     "metadata": {},
     "output_type": "display_data"
    }
   ],
   "source": [
    "from mobilechelonian import Turtle\n",
    "t=Turtle()\n",
    "t.speed(5)\n",
    "for i in range (2):\n",
    "    t.forward(100)\n",
    "    t.right(45)\n",
    "    t.forward(100)\n",
    "    t.right(135)\n",
    "      "
   ]
  },
  {
   "cell_type": "markdown",
   "metadata": {},
   "source": [
    "Наша программа рисует один ромб, но наша фигура состоит из 8 ромбов. Давайте поробуем нарисовать два. \n",
    "На какой угол должна повернуть черепашка? Найдите строчку, в которой черепашка поворачивает после первого ромба и попробуйте побобрать нужный угол. "
   ]
  },
  {
   "cell_type": "code",
   "execution_count": 12,
   "metadata": {},
   "outputs": [
    {
     "data": {
      "application/vnd.jupyter.widget-view+json": {
       "model_id": "dc2daa074996468680df6592025d6161",
       "version_major": 2,
       "version_minor": 0
      },
      "text/plain": [
       "Turtle()"
      ]
     },
     "metadata": {},
     "output_type": "display_data"
    }
   ],
   "source": [
    "from mobilechelonian import Turtle\n",
    "t=Turtle()\n",
    "t.speed(5)\n",
    "for i in range (2):\n",
    "    t.forward(100)\n",
    "    t.right(45)\n",
    "    t.forward(100)\n",
    "    t.right(135)\n",
    "     \n",
    "t.right(45)\n",
    "for j in range (2):\n",
    "    t.forward(100)\n",
    "    t.right(45)\n",
    "    t.forward(100)\n",
    "    t.right(135)\n",
    "         "
   ]
  },
  {
   "cell_type": "markdown",
   "metadata": {},
   "source": [
    " Когда угол подобран и два ромба нарисованы правильно, пришла пора объединить рисование двух ромбов циклом. У нас плучится влоденный друг в друга цикл.\n",
    "Будьте внимательны с отступами! Отступы нужны после каждого цикла. "
   ]
  },
  {
   "cell_type": "code",
   "execution_count": 2,
   "metadata": {},
   "outputs": [
    {
     "data": {
      "application/vnd.jupyter.widget-view+json": {
       "model_id": "725fcc0d894f4f238ea3500653570fde",
       "version_major": 2,
       "version_minor": 0
      },
      "text/plain": [
       "Turtle()"
      ]
     },
     "metadata": {},
     "output_type": "display_data"
    }
   ],
   "source": [
    "t=Turtle()\n",
    "t.speed(5)\n",
    "for i in range (8):\n",
    "    for i in range (2):\n",
    "        t.forward(100)\n",
    "        t.right(45)\n",
    "        t.forward(100)\n",
    "        t.right(135)\n",
    "    t.right(45)"
   ]
  },
  {
   "cell_type": "markdown",
   "metadata": {},
   "source": [
    "Попробуйте нарисовать собственные ромбы, придумайте похожую картинку и постарайтесь не подглядывать! "
   ]
  },
  {
   "cell_type": "markdown",
   "metadata": {},
   "source": []
  },
  {
   "cell_type": "code",
   "execution_count": null,
   "metadata": {},
   "outputs": [],
   "source": []
  },
  {
   "cell_type": "code",
   "execution_count": null,
   "metadata": {},
   "outputs": [],
   "source": []
  },
  {
   "cell_type": "code",
   "execution_count": null,
   "metadata": {},
   "outputs": [],
   "source": []
  },
  {
   "cell_type": "code",
   "execution_count": null,
   "metadata": {},
   "outputs": [],
   "source": []
  },
  {
   "cell_type": "code",
   "execution_count": null,
   "metadata": {},
   "outputs": [],
   "source": []
  }
 ],
 "metadata": {
  "kernelspec": {
   "display_name": "Python 3",
   "language": "python",
   "name": "python3"
  },
  "language_info": {
   "codemirror_mode": {
    "name": "ipython",
    "version": 3
   },
   "file_extension": ".py",
   "mimetype": "text/x-python",
   "name": "python",
   "nbconvert_exporter": "python",
   "pygments_lexer": "ipython3",
   "version": "3.6.5"
  }
 },
 "nbformat": 4,
 "nbformat_minor": 2
}
